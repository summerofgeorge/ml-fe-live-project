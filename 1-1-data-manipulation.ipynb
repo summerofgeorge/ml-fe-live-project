{
 "cells": [
  {
   "cell_type": "code",
   "execution_count": 3,
   "id": "alike-repeat",
   "metadata": {},
   "outputs": [],
   "source": [
    "import pandas as pd\n",
    "import matplotlib.pyplot as plt\n",
    "import seaborn as sns"
   ]
  },
  {
   "cell_type": "markdown",
   "id": "blind-thirty",
   "metadata": {},
   "source": [
    "Use Python pandas library to load all three data files in model_data folder.\n",
    "\n",
    "Observe data in all three dataframes."
   ]
  },
  {
   "cell_type": "code",
   "execution_count": 4,
   "id": "reported-advisory",
   "metadata": {},
   "outputs": [
    {
     "data": {
      "text/html": [
       "<div>\n",
       "<style scoped>\n",
       "    .dataframe tbody tr th:only-of-type {\n",
       "        vertical-align: middle;\n",
       "    }\n",
       "\n",
       "    .dataframe tbody tr th {\n",
       "        vertical-align: top;\n",
       "    }\n",
       "\n",
       "    .dataframe thead th {\n",
       "        text-align: right;\n",
       "    }\n",
       "</style>\n",
       "<table border=\"1\" class=\"dataframe\">\n",
       "  <thead>\n",
       "    <tr style=\"text-align: right;\">\n",
       "      <th></th>\n",
       "      <th>Glucose</th>\n",
       "      <th>BloodPressure</th>\n",
       "      <th>SkinThickness</th>\n",
       "      <th>Insulin</th>\n",
       "      <th>BMI</th>\n",
       "      <th>DiabetesPedigreeFunction</th>\n",
       "      <th>PatientID</th>\n",
       "      <th>Outcome</th>\n",
       "    </tr>\n",
       "  </thead>\n",
       "  <tbody>\n",
       "    <tr>\n",
       "      <th>0</th>\n",
       "      <td>101</td>\n",
       "      <td>58</td>\n",
       "      <td>17</td>\n",
       "      <td>265</td>\n",
       "      <td>24.2</td>\n",
       "      <td>0.614</td>\n",
       "      <td>1017</td>\n",
       "      <td>0</td>\n",
       "    </tr>\n",
       "    <tr>\n",
       "      <th>1</th>\n",
       "      <td>108</td>\n",
       "      <td>70</td>\n",
       "      <td>0</td>\n",
       "      <td>0</td>\n",
       "      <td>30.5</td>\n",
       "      <td>0.955</td>\n",
       "      <td>1031</td>\n",
       "      <td>1</td>\n",
       "    </tr>\n",
       "    <tr>\n",
       "      <th>2</th>\n",
       "      <td>148</td>\n",
       "      <td>60</td>\n",
       "      <td>27</td>\n",
       "      <td>318</td>\n",
       "      <td>30.9</td>\n",
       "      <td>0.150</td>\n",
       "      <td>1033</td>\n",
       "      <td>1</td>\n",
       "    </tr>\n",
       "    <tr>\n",
       "      <th>3</th>\n",
       "      <td>113</td>\n",
       "      <td>76</td>\n",
       "      <td>0</td>\n",
       "      <td>0</td>\n",
       "      <td>33.3</td>\n",
       "      <td>0.278</td>\n",
       "      <td>1035</td>\n",
       "      <td>1</td>\n",
       "    </tr>\n",
       "    <tr>\n",
       "      <th>4</th>\n",
       "      <td>83</td>\n",
       "      <td>86</td>\n",
       "      <td>19</td>\n",
       "      <td>0</td>\n",
       "      <td>29.3</td>\n",
       "      <td>0.317</td>\n",
       "      <td>1048</td>\n",
       "      <td>0</td>\n",
       "    </tr>\n",
       "  </tbody>\n",
       "</table>\n",
       "</div>"
      ],
      "text/plain": [
       "   Glucose  BloodPressure  SkinThickness  Insulin   BMI  \\\n",
       "0      101             58             17      265  24.2   \n",
       "1      108             70              0        0  30.5   \n",
       "2      148             60             27      318  30.9   \n",
       "3      113             76              0        0  33.3   \n",
       "4       83             86             19        0  29.3   \n",
       "\n",
       "   DiabetesPedigreeFunction  PatientID  Outcome  \n",
       "0                     0.614       1017        0  \n",
       "1                     0.955       1031        1  \n",
       "2                     0.150       1033        1  \n",
       "3                     0.278       1035        1  \n",
       "4                     0.317       1048        0  "
      ]
     },
     "execution_count": 4,
     "metadata": {},
     "output_type": "execute_result"
    }
   ],
   "source": [
    "diabetes = pd.read_csv('model_data/diabetes.csv')\n",
    "diabetes.head()"
   ]
  },
  {
   "cell_type": "code",
   "execution_count": 8,
   "id": "apart-diamond",
   "metadata": {},
   "outputs": [
    {
     "data": {
      "text/html": [
       "<div>\n",
       "<style scoped>\n",
       "    .dataframe tbody tr th:only-of-type {\n",
       "        vertical-align: middle;\n",
       "    }\n",
       "\n",
       "    .dataframe tbody tr th {\n",
       "        vertical-align: top;\n",
       "    }\n",
       "\n",
       "    .dataframe thead th {\n",
       "        text-align: right;\n",
       "    }\n",
       "</style>\n",
       "<table border=\"1\" class=\"dataframe\">\n",
       "  <thead>\n",
       "    <tr style=\"text-align: right;\">\n",
       "      <th></th>\n",
       "      <th>PatientID</th>\n",
       "      <th>BirthYear</th>\n",
       "      <th>City</th>\n",
       "      <th>State</th>\n",
       "      <th>Country</th>\n",
       "    </tr>\n",
       "  </thead>\n",
       "  <tbody>\n",
       "    <tr>\n",
       "      <th>0</th>\n",
       "      <td>1017</td>\n",
       "      <td>1998</td>\n",
       "      <td>Winona</td>\n",
       "      <td>Minnesota</td>\n",
       "      <td>United States</td>\n",
       "    </tr>\n",
       "    <tr>\n",
       "      <th>1</th>\n",
       "      <td>1031</td>\n",
       "      <td>1988</td>\n",
       "      <td>Springfield</td>\n",
       "      <td>Illinois</td>\n",
       "      <td>United States</td>\n",
       "    </tr>\n",
       "    <tr>\n",
       "      <th>2</th>\n",
       "      <td>1033</td>\n",
       "      <td>1992</td>\n",
       "      <td>Socorro</td>\n",
       "      <td>Texas</td>\n",
       "      <td>United States</td>\n",
       "    </tr>\n",
       "    <tr>\n",
       "      <th>3</th>\n",
       "      <td>1035</td>\n",
       "      <td>1998</td>\n",
       "      <td>Erie</td>\n",
       "      <td>Pennsylvania</td>\n",
       "      <td>United States</td>\n",
       "    </tr>\n",
       "    <tr>\n",
       "      <th>4</th>\n",
       "      <td>1048</td>\n",
       "      <td>1987</td>\n",
       "      <td>Sioux Falls</td>\n",
       "      <td>South Dakota</td>\n",
       "      <td>United States</td>\n",
       "    </tr>\n",
       "  </tbody>\n",
       "</table>\n",
       "</div>"
      ],
      "text/plain": [
       "   PatientID  BirthYear         City         State        Country\n",
       "0       1017       1998       Winona     Minnesota  United States\n",
       "1       1031       1988  Springfield      Illinois  United States\n",
       "2       1033       1992      Socorro         Texas  United States\n",
       "3       1035       1998         Erie  Pennsylvania  United States\n",
       "4       1048       1987  Sioux Falls  South Dakota  United States"
      ]
     },
     "execution_count": 8,
     "metadata": {},
     "output_type": "execute_result"
    }
   ],
   "source": [
    "patients = pd.read_csv('model_data/patient_data.csv')\n",
    "patients.head()"
   ]
  },
  {
   "cell_type": "code",
   "execution_count": 7,
   "id": "major-senegal",
   "metadata": {},
   "outputs": [
    {
     "data": {
      "text/html": [
       "<div>\n",
       "<style scoped>\n",
       "    .dataframe tbody tr th:only-of-type {\n",
       "        vertical-align: middle;\n",
       "    }\n",
       "\n",
       "    .dataframe tbody tr th {\n",
       "        vertical-align: top;\n",
       "    }\n",
       "\n",
       "    .dataframe thead th {\n",
       "        text-align: right;\n",
       "    }\n",
       "</style>\n",
       "<table border=\"1\" class=\"dataframe\">\n",
       "  <thead>\n",
       "    <tr style=\"text-align: right;\">\n",
       "      <th></th>\n",
       "      <th>PatientID</th>\n",
       "      <th>PregnancyRecordID</th>\n",
       "    </tr>\n",
       "  </thead>\n",
       "  <tbody>\n",
       "    <tr>\n",
       "      <th>0</th>\n",
       "      <td>1017</td>\n",
       "      <td>7119</td>\n",
       "    </tr>\n",
       "    <tr>\n",
       "      <th>1</th>\n",
       "      <td>1017</td>\n",
       "      <td>7120</td>\n",
       "    </tr>\n",
       "    <tr>\n",
       "      <th>2</th>\n",
       "      <td>1031</td>\n",
       "      <td>7217</td>\n",
       "    </tr>\n",
       "    <tr>\n",
       "      <th>3</th>\n",
       "      <td>1031</td>\n",
       "      <td>7218</td>\n",
       "    </tr>\n",
       "    <tr>\n",
       "      <th>4</th>\n",
       "      <td>1031</td>\n",
       "      <td>7219</td>\n",
       "    </tr>\n",
       "  </tbody>\n",
       "</table>\n",
       "</div>"
      ],
      "text/plain": [
       "   PatientID  PregnancyRecordID\n",
       "0       1017               7119\n",
       "1       1017               7120\n",
       "2       1031               7217\n",
       "3       1031               7218\n",
       "4       1031               7219"
      ]
     },
     "execution_count": 7,
     "metadata": {},
     "output_type": "execute_result"
    }
   ],
   "source": [
    "pregnancies = pd.read_csv('model_data/pregnancies_records.csv')\n",
    "pregnancies.head()"
   ]
  },
  {
   "cell_type": "markdown",
   "id": "numerous-herald",
   "metadata": {},
   "source": [
    "Check data types of each column."
   ]
  },
  {
   "cell_type": "code",
   "execution_count": 14,
   "id": "spoken-export",
   "metadata": {},
   "outputs": [
    {
     "name": "stdout",
     "output_type": "stream",
     "text": [
      "Glucose                       int64\n",
      "BloodPressure                 int64\n",
      "SkinThickness                 int64\n",
      "Insulin                       int64\n",
      "BMI                         float64\n",
      "DiabetesPedigreeFunction    float64\n",
      "PatientID                     int64\n",
      "Outcome                       int64\n",
      "dtype: object\n",
      "PatientID     int64\n",
      "BirthYear     int64\n",
      "City         object\n",
      "State        object\n",
      "Country      object\n",
      "dtype: object\n",
      "PatientID            int64\n",
      "PregnancyRecordID    int64\n",
      "dtype: object\n"
     ]
    }
   ],
   "source": [
    "for i in [diabetes,patients,pregnancies]: print(i.dtypes)"
   ]
  },
  {
   "cell_type": "markdown",
   "id": "adjustable-animal",
   "metadata": {},
   "source": [
    "Get total record count and number of columns for each file"
   ]
  },
  {
   "cell_type": "code",
   "execution_count": 15,
   "id": "frequent-enemy",
   "metadata": {},
   "outputs": [
    {
     "name": "stdout",
     "output_type": "stream",
     "text": [
      "(686, 8)\n",
      "(932, 5)\n",
      "(3060, 2)\n"
     ]
    }
   ],
   "source": [
    "for i in [diabetes,patients,pregnancies]: print(i.shape)"
   ]
  },
  {
   "cell_type": "markdown",
   "id": "fifty-occupation",
   "metadata": {},
   "source": [
    "Generate basic statistics that describes data for each file. It consists of mean, standard deviation, minimum, and maximum values."
   ]
  },
  {
   "cell_type": "code",
   "execution_count": 16,
   "id": "cathedral-serve",
   "metadata": {},
   "outputs": [
    {
     "name": "stdout",
     "output_type": "stream",
     "text": [
      "          Glucose  BloodPressure  SkinThickness     Insulin         BMI  \\\n",
      "count  686.000000     686.000000     686.000000  686.000000  686.000000   \n",
      "mean   120.651603      69.448980      20.634111   80.583090   31.974781   \n",
      "std     31.857707      19.040706      15.944848  117.712149    7.946174   \n",
      "min      0.000000       0.000000       0.000000    0.000000    0.000000   \n",
      "25%     99.000000      64.000000       0.000000    0.000000   27.300000   \n",
      "50%    117.000000      72.000000      23.000000   26.000000   32.000000   \n",
      "75%    140.000000      80.000000      32.000000  127.750000   36.600000   \n",
      "max    199.000000     122.000000      99.000000  846.000000   67.100000   \n",
      "\n",
      "       DiabetesPedigreeFunction     PatientID     Outcome  \n",
      "count                686.000000    686.000000  686.000000  \n",
      "mean                   0.469886   9529.288630    0.348397  \n",
      "std                    0.328851   4890.669582    0.476810  \n",
      "min                    0.078000   1017.000000    0.000000  \n",
      "25%                    0.245250   5189.750000    0.000000  \n",
      "50%                    0.370500   9446.000000    0.000000  \n",
      "75%                    0.618000  13685.750000    1.000000  \n",
      "max                    2.420000  17995.000000    1.000000  \n",
      "          PatientID    BirthYear\n",
      "count    932.000000   932.000000\n",
      "mean    9413.204936  1981.948498\n",
      "std     5038.881999    17.457007\n",
      "min       95.000000  1931.000000\n",
      "25%     5007.500000  1973.000000\n",
      "50%     9383.500000  1988.000000\n",
      "75%    13829.000000  1996.000000\n",
      "max    17995.000000  2001.000000\n",
      "          PatientID  PregnancyRecordID\n",
      "count   3060.000000        3060.000000\n",
      "mean   10229.397386       71608.722549\n",
      "std     4866.164878       34063.248817\n",
      "min     1017.000000        7119.000000\n",
      "25%     6010.000000       42070.750000\n",
      "50%    10878.500000       76154.500000\n",
      "75%    14307.000000      100154.250000\n",
      "max    17995.000000      125966.000000\n"
     ]
    }
   ],
   "source": [
    "for i in [diabetes,patients,pregnancies]: print(i.describe())"
   ]
  },
  {
   "cell_type": "markdown",
   "id": "descending-indianapolis",
   "metadata": {},
   "source": [
    "Identify any relationships that you can spot.\n",
    "\n",
    "- The `"
   ]
  }
 ],
 "metadata": {
  "kernelspec": {
   "display_name": "Python 3",
   "language": "python",
   "name": "python3"
  },
  "language_info": {
   "codemirror_mode": {
    "name": "ipython",
    "version": 3
   },
   "file_extension": ".py",
   "mimetype": "text/x-python",
   "name": "python",
   "nbconvert_exporter": "python",
   "pygments_lexer": "ipython3",
   "version": "3.7.9"
  }
 },
 "nbformat": 4,
 "nbformat_minor": 5
}
