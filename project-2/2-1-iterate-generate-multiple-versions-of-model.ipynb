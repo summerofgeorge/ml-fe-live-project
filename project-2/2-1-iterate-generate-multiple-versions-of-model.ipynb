{
 "cells": [
  {
   "cell_type": "markdown",
   "metadata": {},
   "source": [
    "Open a new Jupyter notebook and create a final dataframe containing all features similar to how you did in milestone 1 of project 2."
   ]
  },
  {
   "cell_type": "code",
   "execution_count": 1,
   "metadata": {},
   "outputs": [],
   "source": [
    "import pandas as pd\n",
    "\n",
    "\n",
    "# Preprocessing\n",
    "from sklearn.compose import ColumnTransformer \n",
    "from sklearn.preprocessing import StandardScaler\n",
    "\n",
    "\n",
    "# Model definition\n",
    "from sklearn.linear_model import LogisticRegression\n",
    "from sklearn.pipeline import Pipeline\n",
    "from sklearn.model_selection import train_test_split\n",
    "\n",
    "# Metrics\n",
    "from sklearn.metrics import classification_report\n",
    "from sklearn.metrics import confusion_matrix\n",
    "from sklearn.metrics import accuracy_score\n",
    "\n",
    "# Save the model\n",
    "import joblib"
   ]
  },
  {
   "cell_type": "code",
   "execution_count": 2,
   "metadata": {},
   "outputs": [
    {
     "data": {
      "text/html": [
       "<div>\n",
       "<style scoped>\n",
       "    .dataframe tbody tr th:only-of-type {\n",
       "        vertical-align: middle;\n",
       "    }\n",
       "\n",
       "    .dataframe tbody tr th {\n",
       "        vertical-align: top;\n",
       "    }\n",
       "\n",
       "    .dataframe thead th {\n",
       "        text-align: right;\n",
       "    }\n",
       "</style>\n",
       "<table border=\"1\" class=\"dataframe\">\n",
       "  <thead>\n",
       "    <tr style=\"text-align: right;\">\n",
       "      <th></th>\n",
       "      <th>Unnamed: 0</th>\n",
       "      <th>Glucose</th>\n",
       "      <th>BloodPressure</th>\n",
       "      <th>SkinThickness</th>\n",
       "      <th>Insulin</th>\n",
       "      <th>BMI</th>\n",
       "      <th>DiabetesPedigreeFunction</th>\n",
       "      <th>PatientID</th>\n",
       "      <th>Outcome</th>\n",
       "      <th>BirthYear</th>\n",
       "      <th>City</th>\n",
       "      <th>State</th>\n",
       "      <th>Country</th>\n",
       "      <th>Pregnancies</th>\n",
       "      <th>Age</th>\n",
       "    </tr>\n",
       "  </thead>\n",
       "  <tbody>\n",
       "    <tr>\n",
       "      <th>0</th>\n",
       "      <td>0</td>\n",
       "      <td>101</td>\n",
       "      <td>58</td>\n",
       "      <td>17</td>\n",
       "      <td>265</td>\n",
       "      <td>24.2</td>\n",
       "      <td>0.614</td>\n",
       "      <td>1017</td>\n",
       "      <td>0</td>\n",
       "      <td>1998</td>\n",
       "      <td>Winona</td>\n",
       "      <td>Minnesota</td>\n",
       "      <td>United States</td>\n",
       "      <td>2.0</td>\n",
       "      <td>23</td>\n",
       "    </tr>\n",
       "    <tr>\n",
       "      <th>1</th>\n",
       "      <td>1</td>\n",
       "      <td>108</td>\n",
       "      <td>70</td>\n",
       "      <td>0</td>\n",
       "      <td>0</td>\n",
       "      <td>30.5</td>\n",
       "      <td>0.955</td>\n",
       "      <td>1031</td>\n",
       "      <td>1</td>\n",
       "      <td>1988</td>\n",
       "      <td>Springfield</td>\n",
       "      <td>Illinois</td>\n",
       "      <td>United States</td>\n",
       "      <td>8.0</td>\n",
       "      <td>33</td>\n",
       "    </tr>\n",
       "    <tr>\n",
       "      <th>2</th>\n",
       "      <td>2</td>\n",
       "      <td>148</td>\n",
       "      <td>60</td>\n",
       "      <td>27</td>\n",
       "      <td>318</td>\n",
       "      <td>30.9</td>\n",
       "      <td>0.150</td>\n",
       "      <td>1033</td>\n",
       "      <td>1</td>\n",
       "      <td>1992</td>\n",
       "      <td>Socorro</td>\n",
       "      <td>Texas</td>\n",
       "      <td>United States</td>\n",
       "      <td>4.0</td>\n",
       "      <td>29</td>\n",
       "    </tr>\n",
       "    <tr>\n",
       "      <th>3</th>\n",
       "      <td>3</td>\n",
       "      <td>113</td>\n",
       "      <td>76</td>\n",
       "      <td>0</td>\n",
       "      <td>0</td>\n",
       "      <td>33.3</td>\n",
       "      <td>0.278</td>\n",
       "      <td>1035</td>\n",
       "      <td>1</td>\n",
       "      <td>1998</td>\n",
       "      <td>Erie</td>\n",
       "      <td>Pennsylvania</td>\n",
       "      <td>United States</td>\n",
       "      <td>0.0</td>\n",
       "      <td>23</td>\n",
       "    </tr>\n",
       "    <tr>\n",
       "      <th>4</th>\n",
       "      <td>4</td>\n",
       "      <td>83</td>\n",
       "      <td>86</td>\n",
       "      <td>19</td>\n",
       "      <td>0</td>\n",
       "      <td>29.3</td>\n",
       "      <td>0.317</td>\n",
       "      <td>1048</td>\n",
       "      <td>0</td>\n",
       "      <td>1987</td>\n",
       "      <td>Sioux Falls</td>\n",
       "      <td>South Dakota</td>\n",
       "      <td>United States</td>\n",
       "      <td>4.0</td>\n",
       "      <td>34</td>\n",
       "    </tr>\n",
       "  </tbody>\n",
       "</table>\n",
       "</div>"
      ],
      "text/plain": [
       "   Unnamed: 0  Glucose  BloodPressure  SkinThickness  Insulin   BMI  \\\n",
       "0           0      101             58             17      265  24.2   \n",
       "1           1      108             70              0        0  30.5   \n",
       "2           2      148             60             27      318  30.9   \n",
       "3           3      113             76              0        0  33.3   \n",
       "4           4       83             86             19        0  29.3   \n",
       "\n",
       "   DiabetesPedigreeFunction  PatientID  Outcome  BirthYear         City  \\\n",
       "0                     0.614       1017        0       1998       Winona   \n",
       "1                     0.955       1031        1       1988  Springfield   \n",
       "2                     0.150       1033        1       1992      Socorro   \n",
       "3                     0.278       1035        1       1998         Erie   \n",
       "4                     0.317       1048        0       1987  Sioux Falls   \n",
       "\n",
       "          State        Country  Pregnancies  Age  \n",
       "0     Minnesota  United States          2.0   23  \n",
       "1      Illinois  United States          8.0   33  \n",
       "2         Texas  United States          4.0   29  \n",
       "3  Pennsylvania  United States          0.0   23  \n",
       "4  South Dakota  United States          4.0   34  "
      ]
     },
     "execution_count": 2,
     "metadata": {},
     "output_type": "execute_result"
    }
   ],
   "source": [
    "result_df = pd.read_csv('../model_data/merged_df.csv')\n",
    "result_df.head()"
   ]
  },
  {
   "cell_type": "code",
   "execution_count": 3,
   "metadata": {},
   "outputs": [],
   "source": [
    "# lowercase all of these column names\n",
    "result_df.columns = result_df.columns.str.lower()"
   ]
  },
  {
   "cell_type": "code",
   "execution_count": 4,
   "metadata": {},
   "outputs": [],
   "source": [
    "X = result_df.drop(columns=['outcome'])\n",
    "y = result_df['outcome']"
   ]
  },
  {
   "cell_type": "markdown",
   "metadata": {},
   "source": [
    "Split the data set in training and testing with 80-20 ratio."
   ]
  },
  {
   "cell_type": "code",
   "execution_count": 5,
   "metadata": {},
   "outputs": [],
   "source": [
    "# Asking us to seed the data would be helpful\n",
    "\n",
    "X_train, X_test, y_train, y_test = train_test_split(X, y, test_size=.2, random_state=1234)"
   ]
  },
  {
   "cell_type": "markdown",
   "metadata": {},
   "source": [
    "You will retrain the model using all features."
   ]
  },
  {
   "cell_type": "markdown",
   "metadata": {},
   "source": [
    "Define ML pipeline with pre-processing steps and a logistic regression model. Pre-processing can include the following:\n",
    "\n",
    "Select all features to build your ML model.\n",
    "Normalize these features using Standard Scaler in sklearn Hint: You can do #4 and #5 using ColumnTransformer which can drop features and apply standard scaler."
   ]
  },
  {
   "cell_type": "code",
   "execution_count": 6,
   "metadata": {},
   "outputs": [],
   "source": [
    "features_use = ['glucose', 'bmi', 'pregnancies', 'age', 'patientid', 'birthyear']"
   ]
  },
  {
   "cell_type": "code",
   "execution_count": 7,
   "metadata": {},
   "outputs": [],
   "source": [
    "column_transformers_v1 = ColumnTransformer(\n",
    "    transformers=[('scale_features', StandardScaler(), features_use)])\n"
   ]
  },
  {
   "cell_type": "markdown",
   "metadata": {},
   "source": [
    "Train the model on training data and test it on testing data."
   ]
  },
  {
   "cell_type": "code",
   "execution_count": 8,
   "metadata": {},
   "outputs": [],
   "source": [
    "# Logistic regression\n",
    "\n",
    "\n",
    "lr_model = LogisticRegression()\n",
    "\n",
    "\n",
    "# create sklearn ML pipeline \n",
    "model_pipeline_v1 = Pipeline(steps=[\n",
    "                    ('pre_processing', column_transformers_v1),\n",
    "                    ('linear_model', lr_model)        \n",
    "                ])\n",
    "\n",
    "# train the model on training dataset\n",
    "model_pipeline_v1.fit(X_train, y_train)\n",
    "\n",
    "train_prediction_v1 = model_pipeline_v1.predict(X_train)\n",
    "\n",
    "test_prediction_v1 = model_pipeline_v1.predict(X_test)"
   ]
  },
  {
   "cell_type": "markdown",
   "metadata": {},
   "source": [
    "You can analyze the accuracy of the model. Also, check the confusion matrix."
   ]
  },
  {
   "cell_type": "code",
   "execution_count": 9,
   "metadata": {},
   "outputs": [
    {
     "data": {
      "text/plain": [
       "0.7609489051094891"
      ]
     },
     "execution_count": 9,
     "metadata": {},
     "output_type": "execute_result"
    }
   ],
   "source": [
    "# It's not as accurate as before\n",
    "accuracy_score(train_prediction_v1, y_train)"
   ]
  },
  {
   "cell_type": "code",
   "execution_count": 10,
   "metadata": {},
   "outputs": [
    {
     "data": {
      "text/plain": [
       "array([[313,  86],\n",
       "       [ 45, 104]], dtype=int64)"
      ]
     },
     "execution_count": 10,
     "metadata": {},
     "output_type": "execute_result"
    }
   ],
   "source": [
    "confusion_matrix(train_prediction_v1, y_train)"
   ]
  },
  {
   "cell_type": "code",
   "execution_count": 11,
   "metadata": {},
   "outputs": [
    {
     "data": {
      "text/plain": [
       "'              precision    recall  f1-score   support\\n\\n           0       0.87      0.78      0.83       399\\n           1       0.55      0.70      0.61       149\\n\\n    accuracy                           0.76       548\\n   macro avg       0.71      0.74      0.72       548\\nweighted avg       0.79      0.76      0.77       548\\n'"
      ]
     },
     "execution_count": 11,
     "metadata": {},
     "output_type": "execute_result"
    }
   ],
   "source": [
    "classification_report(train_prediction_v1, y_train)"
   ]
  },
  {
   "cell_type": "markdown",
   "metadata": {},
   "source": [
    "Save the model either using pickle or joblib. Make sure to name the file appropriately (postfix with “v2”). The file format should be “.pkl”"
   ]
  },
  {
   "cell_type": "code",
   "execution_count": 12,
   "metadata": {},
   "outputs": [
    {
     "data": {
      "text/plain": [
       "['../saved_models/ml_pipeline_v2.pkl']"
      ]
     },
     "execution_count": 12,
     "metadata": {},
     "output_type": "execute_result"
    }
   ],
   "source": [
    "joblib.dump(model_pipeline_v1, '../saved_models/ml_pipeline_v2.pkl')"
   ]
  },
  {
   "cell_type": "markdown",
   "metadata": {},
   "source": [
    "You can also retrain the model using a different set of features or tuning the parameters of your model. Chose your way. Make an additional version of the model- v3, v4, or more."
   ]
  },
  {
   "cell_type": "code",
   "execution_count": 13,
   "metadata": {},
   "outputs": [
    {
     "name": "stdout",
     "output_type": "stream",
     "text": [
      "0.7681159420289855\n",
      "[[79 22]\n",
      " [10 27]]\n",
      "              precision    recall  f1-score   support\n",
      "\n",
      "           0       0.89      0.78      0.83       101\n",
      "           1       0.55      0.73      0.63        37\n",
      "\n",
      "    accuracy                           0.77       138\n",
      "   macro avg       0.72      0.76      0.73       138\n",
      "weighted avg       0.80      0.77      0.78       138\n",
      "\n"
     ]
    }
   ],
   "source": [
    "features_use = ['glucose', 'bmi', 'age']\n",
    "\n",
    "column_transformers_v1 = ColumnTransformer(\n",
    "    transformers=[('scale_features', StandardScaler(), features_use)])\n",
    "\n",
    "\n",
    "# Logistic regression\n",
    "\n",
    "\n",
    "lr_model = LogisticRegression()\n",
    "\n",
    "\n",
    "# create sklearn ML pipeline \n",
    "model_pipeline_v1 = Pipeline(steps=[\n",
    "                    ('pre_processing', column_transformers_v1),\n",
    "                    ('linear_model', lr_model)        \n",
    "                ])\n",
    "\n",
    "# train the model on training dataset\n",
    "model_pipeline_v1.fit(X_train, y_train)\n",
    "\n",
    "train_prediction_v1 = model_pipeline_v1.predict(X_train)\n",
    "\n",
    "test_prediction_v1 = model_pipeline_v1.predict(X_test)\n",
    "\n",
    "print(accuracy_score(test_prediction_v1, y_test))\n",
    "print(confusion_matrix(test_prediction_v1, y_test))\n",
    "print(classification_report(test_prediction_v1, y_test))"
   ]
  },
  {
   "cell_type": "code",
   "execution_count": null,
   "metadata": {},
   "outputs": [],
   "source": []
  },
  {
   "cell_type": "code",
   "execution_count": null,
   "metadata": {},
   "outputs": [],
   "source": []
  }
 ],
 "metadata": {
  "kernelspec": {
   "display_name": "Python 3",
   "language": "python",
   "name": "python3"
  },
  "language_info": {
   "codemirror_mode": {
    "name": "ipython",
    "version": 3
   },
   "file_extension": ".py",
   "mimetype": "text/x-python",
   "name": "python",
   "nbconvert_exporter": "python",
   "pygments_lexer": "ipython3",
   "version": "3.8.3"
  }
 },
 "nbformat": 4,
 "nbformat_minor": 5
}
