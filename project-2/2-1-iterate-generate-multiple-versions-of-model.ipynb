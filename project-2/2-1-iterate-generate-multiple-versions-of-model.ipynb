{
 "cells": [
  {
   "cell_type": "markdown",
   "id": "8bdeda7b",
   "metadata": {},
   "source": [
    "Open a new Jupyter notebook and create a final dataframe containing all features similar to how you did in milestone 1 of project 2."
   ]
  },
  {
   "cell_type": "markdown",
   "id": "4b7b054f",
   "metadata": {},
   "source": [
    "Split the data set in training and testing with 80-20 ratio."
   ]
  },
  {
   "cell_type": "markdown",
   "id": "ba4582e1",
   "metadata": {},
   "source": [
    "You will retrain the model using all features."
   ]
  },
  {
   "cell_type": "markdown",
   "id": "182febc0",
   "metadata": {},
   "source": [
    "Define ML pipeline with pre-processing steps and a logistic regression model. Pre-processing can include the following:\n",
    "\n",
    "Select all features to build your ML model.\n",
    "Normalize these features using Standard Scaler in sklearn Hint: You can do #4 and #5 using ColumnTransformer which can drop features and apply standard scaler."
   ]
  },
  {
   "cell_type": "markdown",
   "id": "40dd8d41",
   "metadata": {},
   "source": [
    "Train the model on training data and test it on testing data."
   ]
  },
  {
   "cell_type": "markdown",
   "id": "617261d8",
   "metadata": {},
   "source": [
    "You can analyze the accuracy of the model. Also, check the confusion matrix."
   ]
  },
  {
   "cell_type": "markdown",
   "id": "9cef0401",
   "metadata": {},
   "source": [
    "Save the model either using pickle or joblib. Make sure to name the file appropriately (postfix with “v2”). The file format should be “.pkl”"
   ]
  },
  {
   "cell_type": "markdown",
   "id": "1088119a",
   "metadata": {},
   "source": [
    "You can also retrain the model using a different set of features or tuning the parameters of your model. Chose your way. Make an additional version of the model- v3, v4, or more."
   ]
  },
  {
   "cell_type": "code",
   "execution_count": null,
   "id": "2958641a",
   "metadata": {},
   "outputs": [],
   "source": []
  }
 ],
 "metadata": {
  "kernelspec": {
   "display_name": "Python 3",
   "language": "python",
   "name": "python3"
  },
  "language_info": {
   "codemirror_mode": {
    "name": "ipython",
    "version": 3
   },
   "file_extension": ".py",
   "mimetype": "text/x-python",
   "name": "python",
   "nbconvert_exporter": "python",
   "pygments_lexer": "ipython3",
   "version": "3.7.11"
  }
 },
 "nbformat": 4,
 "nbformat_minor": 5
}
