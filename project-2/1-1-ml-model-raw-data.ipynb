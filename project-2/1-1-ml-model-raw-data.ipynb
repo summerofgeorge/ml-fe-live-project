{
 "cells": [
  {
   "cell_type": "code",
   "execution_count": null,
   "id": "f948b32f",
   "metadata": {},
   "outputs": [],
   "source": [
    "# https://stackoverflow.com/questions/56107259/how-to-save-a-trained-model-by-scikit-learn\n",
    "# https://scikit-learn.org/stable/modules/model_persistence.html"
   ]
  },
  {
   "cell_type": "markdown",
   "id": "5aacd328",
   "metadata": {},
   "source": [
    "Separate target variable- Outcome from the dataframe."
   ]
  },
  {
   "cell_type": "markdown",
   "id": "3dadfc73",
   "metadata": {},
   "source": [
    "Split the data set in training and testing with 80-20 ratio."
   ]
  },
  {
   "cell_type": "markdown",
   "id": "892e0d86",
   "metadata": {},
   "source": [
    "In milestone 2 of Project 1, you identified the relevant features using a correlation matrix (Coefficients values > 0.2 or 20%). You should have four features with more than 20% correlation."
   ]
  },
  {
   "cell_type": "markdown",
   "id": "df96f4b1",
   "metadata": {},
   "source": [
    "Define ML pipeline with pre-processing steps and a logistic regression model. Pre-processing can include the following:\n",
    "\n",
    "Select 4 relevant/significant features to build your ML model or drop irrelevant/non-significant features.\n",
    "Normalize these features using Standard Scaler in sklearn. You can use ColumnTransformer, which can drop features and apply standard scaler."
   ]
  },
  {
   "cell_type": "markdown",
   "id": "ae12ac04",
   "metadata": {},
   "source": [
    "Train the model on training data and test it on testing data."
   ]
  },
  {
   "cell_type": "markdown",
   "id": "f1c288fc",
   "metadata": {},
   "source": [
    "You can analyze the accuracy of the model. Also, check the confusion matrix."
   ]
  },
  {
   "cell_type": "markdown",
   "id": "bd407ca6",
   "metadata": {},
   "source": [
    "You build the first version of the model. Now, you will save the model so that you can re-use it later or share it with others. You will also reload the saved model and test it on testing data.\n",
    "\n",
    "As you will build one more revision, you can postfix your model file name as v1 (for example, ml_pipeline_v1.pkl)"
   ]
  },
  {
   "cell_type": "markdown",
   "id": "82ec37aa",
   "metadata": {},
   "source": [
    "Save the model either using pickle or joblib. The file format should be .pkl"
   ]
  },
  {
   "cell_type": "markdown",
   "id": "b2511f66",
   "metadata": {},
   "source": [
    "Verify whether the pickle file generated"
   ]
  },
  {
   "cell_type": "markdown",
   "id": "ebee4f62",
   "metadata": {},
   "source": [
    "Load the model that you exported"
   ]
  },
  {
   "cell_type": "markdown",
   "id": "f6df1b26",
   "metadata": {},
   "source": [
    "Generate predictions on testing data using the model you loaded"
   ]
  },
  {
   "cell_type": "markdown",
   "id": "f980638b",
   "metadata": {},
   "source": [
    "Verify the accuracy and confusion matrix. It should match your previous observation."
   ]
  },
  {
   "cell_type": "code",
   "execution_count": null,
   "id": "3ab00f45",
   "metadata": {},
   "outputs": [],
   "source": []
  }
 ],
 "metadata": {
  "kernelspec": {
   "display_name": "Python 3",
   "language": "python",
   "name": "python3"
  },
  "language_info": {
   "codemirror_mode": {
    "name": "ipython",
    "version": 3
   },
   "file_extension": ".py",
   "mimetype": "text/x-python",
   "name": "python",
   "nbconvert_exporter": "python",
   "pygments_lexer": "ipython3",
   "version": "3.7.11"
  }
 },
 "nbformat": 4,
 "nbformat_minor": 5
}
