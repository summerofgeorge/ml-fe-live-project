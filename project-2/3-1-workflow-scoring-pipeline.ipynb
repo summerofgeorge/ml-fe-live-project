{
 "cells": [
  {
   "cell_type": "markdown",
   "id": "f8e3f599",
   "metadata": {},
   "source": [
    "You will be using new data for this milestone. In your data files, there is a folder named: scoring_data. Check your data files and make sure scoring_data files are accessible. Note that these files don’t have target variable-Outcome as your scoring pipeline will predict it."
   ]
  },
  {
   "cell_type": "markdown",
   "id": "2a48b7a7",
   "metadata": {},
   "source": [
    "Open a new Jupyter notebook, load data files from the scording_data folder."
   ]
  },
  {
   "cell_type": "markdown",
   "id": "70df0109",
   "metadata": {},
   "source": [
    "Derive number of pregnancies by patient from patient_records.csv file."
   ]
  },
  {
   "cell_type": "markdown",
   "id": "06d4559f",
   "metadata": {},
   "source": [
    "Create a final dataframe containing all features using a left join.\n",
    "\n",
    "You will need to create new features that you may have added. Example: Age\n",
    "Treat missing values for Pregnancies. You may not need to do any further feature processing or engineering.\n",
    "You need to ensure that you are supplying all features that you have used in model training."
   ]
  },
  {
   "cell_type": "markdown",
   "id": "bf740a24",
   "metadata": {},
   "source": [
    "Load the ML model from the pickle file. You can pick any version or the one with the best accuracy."
   ]
  },
  {
   "cell_type": "markdown",
   "id": "69c8851f",
   "metadata": {},
   "source": [
    "Generate prediction on new data using predict method."
   ]
  },
  {
   "cell_type": "markdown",
   "id": "054ad520",
   "metadata": {},
   "source": [
    "Add the prediction in your dataframe with column-“prediction”"
   ]
  },
  {
   "cell_type": "markdown",
   "id": "5ad91b3c",
   "metadata": {},
   "source": [
    "Save the results as a CSV file. The CSV file should include all features and a prediction column."
   ]
  },
  {
   "cell_type": "code",
   "execution_count": null,
   "id": "fc8b9db1",
   "metadata": {},
   "outputs": [],
   "source": []
  }
 ],
 "metadata": {
  "kernelspec": {
   "display_name": "Python 3",
   "language": "python",
   "name": "python3"
  },
  "language_info": {
   "codemirror_mode": {
    "name": "ipython",
    "version": 3
   },
   "file_extension": ".py",
   "mimetype": "text/x-python",
   "name": "python",
   "nbconvert_exporter": "python",
   "pygments_lexer": "ipython3",
   "version": "3.7.11"
  }
 },
 "nbformat": 4,
 "nbformat_minor": 5
}
