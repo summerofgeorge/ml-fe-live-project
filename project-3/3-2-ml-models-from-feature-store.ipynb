{
 "cells": [
  {
   "cell_type": "markdown",
   "metadata": {},
   "source": [
    "Create a pandas DataFrame from a CSV file: “feature_data_milestone_1.csv” in the feature_store folder.\n"
   ]
  },
  {
   "cell_type": "code",
   "execution_count": 7,
   "metadata": {},
   "outputs": [
    {
     "data": {
      "text/html": [
       "<div>\n",
       "<style scoped>\n",
       "    .dataframe tbody tr th:only-of-type {\n",
       "        vertical-align: middle;\n",
       "    }\n",
       "\n",
       "    .dataframe tbody tr th {\n",
       "        vertical-align: top;\n",
       "    }\n",
       "\n",
       "    .dataframe thead th {\n",
       "        text-align: right;\n",
       "    }\n",
       "</style>\n",
       "<table border=\"1\" class=\"dataframe\">\n",
       "  <thead>\n",
       "    <tr style=\"text-align: right;\">\n",
       "      <th></th>\n",
       "      <th>PatientID</th>\n",
       "      <th>Glucose</th>\n",
       "      <th>BloodPressure</th>\n",
       "      <th>SkinThickness</th>\n",
       "      <th>Insulin</th>\n",
       "      <th>BMI</th>\n",
       "      <th>DiabetesPedigreeFunction</th>\n",
       "      <th>Pregnancies</th>\n",
       "      <th>Age</th>\n",
       "      <th>Outcome</th>\n",
       "    </tr>\n",
       "  </thead>\n",
       "  <tbody>\n",
       "    <tr>\n",
       "      <th>0</th>\n",
       "      <td>1017</td>\n",
       "      <td>101</td>\n",
       "      <td>58</td>\n",
       "      <td>17</td>\n",
       "      <td>265</td>\n",
       "      <td>24.2</td>\n",
       "      <td>0.614</td>\n",
       "      <td>2.0</td>\n",
       "      <td>23</td>\n",
       "      <td>0</td>\n",
       "    </tr>\n",
       "    <tr>\n",
       "      <th>1</th>\n",
       "      <td>1031</td>\n",
       "      <td>108</td>\n",
       "      <td>70</td>\n",
       "      <td>0</td>\n",
       "      <td>0</td>\n",
       "      <td>30.5</td>\n",
       "      <td>0.955</td>\n",
       "      <td>8.0</td>\n",
       "      <td>33</td>\n",
       "      <td>1</td>\n",
       "    </tr>\n",
       "    <tr>\n",
       "      <th>2</th>\n",
       "      <td>1033</td>\n",
       "      <td>148</td>\n",
       "      <td>60</td>\n",
       "      <td>27</td>\n",
       "      <td>318</td>\n",
       "      <td>30.9</td>\n",
       "      <td>0.150</td>\n",
       "      <td>4.0</td>\n",
       "      <td>29</td>\n",
       "      <td>1</td>\n",
       "    </tr>\n",
       "    <tr>\n",
       "      <th>3</th>\n",
       "      <td>1035</td>\n",
       "      <td>113</td>\n",
       "      <td>76</td>\n",
       "      <td>0</td>\n",
       "      <td>0</td>\n",
       "      <td>33.3</td>\n",
       "      <td>0.278</td>\n",
       "      <td>0.0</td>\n",
       "      <td>23</td>\n",
       "      <td>1</td>\n",
       "    </tr>\n",
       "    <tr>\n",
       "      <th>4</th>\n",
       "      <td>1048</td>\n",
       "      <td>83</td>\n",
       "      <td>86</td>\n",
       "      <td>19</td>\n",
       "      <td>0</td>\n",
       "      <td>29.3</td>\n",
       "      <td>0.317</td>\n",
       "      <td>4.0</td>\n",
       "      <td>34</td>\n",
       "      <td>0</td>\n",
       "    </tr>\n",
       "  </tbody>\n",
       "</table>\n",
       "</div>"
      ],
      "text/plain": [
       "   PatientID  Glucose  BloodPressure  SkinThickness  Insulin   BMI  \\\n",
       "0       1017      101             58             17      265  24.2   \n",
       "1       1031      108             70              0        0  30.5   \n",
       "2       1033      148             60             27      318  30.9   \n",
       "3       1035      113             76              0        0  33.3   \n",
       "4       1048       83             86             19        0  29.3   \n",
       "\n",
       "   DiabetesPedigreeFunction  Pregnancies  Age  Outcome  \n",
       "0                     0.614          2.0   23        0  \n",
       "1                     0.955          8.0   33        1  \n",
       "2                     0.150          4.0   29        1  \n",
       "3                     0.278          0.0   23        1  \n",
       "4                     0.317          4.0   34        0  "
      ]
     },
     "execution_count": 7,
     "metadata": {},
     "output_type": "execute_result"
    }
   ],
   "source": [
    "import pandas as pd\n",
    "# load data from feature store\n",
    "features_df = pd.read_csv(\"../feature_store/feature_data_milestone_1.csv\")\n",
    "features_df.head()"
   ]
  },
  {
   "cell_type": "markdown",
   "metadata": {},
   "source": [
    "Remove any records with outliers\n"
   ]
  },
  {
   "cell_type": "code",
   "execution_count": null,
   "metadata": {},
   "outputs": [],
   "source": []
  },
  {
   "cell_type": "markdown",
   "metadata": {},
   "source": [
    "Split the dataset into training and testing sets with an 80:20 ratio."
   ]
  },
  {
   "cell_type": "code",
   "execution_count": 8,
   "metadata": {},
   "outputs": [],
   "source": [
    "from sklearn.model_selection import train_test_split\n",
    "\n",
    "# separate target and non-target variables\n",
    "X=features_df.drop(columns=[\"Outcome\"])\n",
    "y=features_df[\"Outcome\"]\n",
    "\n",
    "train_x, test_x, train_y, test_y = train_test_split(\n",
    "    X,\n",
    "    y,\n",
    "    test_size=0.20\n",
    ")"
   ]
  },
  {
   "cell_type": "markdown",
   "metadata": {},
   "source": [
    "Define the ML pipeline with preprocessing steps and a logistic regression model. It will be a similar model to the “v1” model you built previously. Preprocessing can include the following:\n",
    "\n",
    "Select four relevant/significant features to build your ML model or drop irrelevant/nonsignificant features.\n",
    "Normalize these features using StandardScaler in sklearn. Hint: You can do steps 4 and 5 using ColumnTransformer, which can drop features and apply StandardScaler."
   ]
  },
  {
   "cell_type": "code",
   "execution_count": 9,
   "metadata": {},
   "outputs": [],
   "source": [
    "from sklearn.compose import ColumnTransformer \n",
    "from sklearn.preprocessing import StandardScaler\n",
    "from sklearn.linear_model import LogisticRegression\n",
    "from sklearn.pipeline import Pipeline\n",
    "\n",
    "\n",
    "columns_to_drop = [\"PatientID\"]\n",
    "selected_features_v1 = [\"Glucose\",\"BMI\",\"Pregnancies\",\"Age\"]\n",
    "\n",
    "# adding all pre-processing stesp in column transformers\n",
    "column_transformers_v1 = ColumnTransformer(transformers=[(\"drop_columns\",\"drop\",columns_to_drop),\n",
    "                                                   (\"scale_features\", StandardScaler(),selected_features_v1)\n",
    "])\n",
    "\n",
    "ml_model = LogisticRegression()\n",
    "# create sklearn ML pipeline \n",
    "model_pipeline_v1 = Pipeline(steps=[\n",
    "                    ('pre_processing', column_transformers_v1),\n",
    "                    ('linear_model', ml_model)        \n",
    "                ])\n"
   ]
  },
  {
   "cell_type": "markdown",
   "metadata": {},
   "source": [
    "Train the model on training data and test it on testing data."
   ]
  },
  {
   "cell_type": "code",
   "execution_count": 10,
   "metadata": {},
   "outputs": [],
   "source": [
    "# train the model on training dataset\n",
    "model_pipeline_v1.fit(train_x, train_y)\n",
    "\n",
    "train_prediction_v1 = model_pipeline_v1.predict(train_x)"
   ]
  },
  {
   "cell_type": "markdown",
   "metadata": {},
   "source": [
    "You can analyze the accuracy of the model. Also, check the confusion matrix."
   ]
  },
  {
   "cell_type": "code",
   "execution_count": 11,
   "metadata": {},
   "outputs": [
    {
     "name": "stdout",
     "output_type": "stream",
     "text": [
      "0.7773722627737226\n",
      "[[317  79]\n",
      " [ 43 109]]\n",
      "              precision    recall  f1-score   support\n",
      "\n",
      "           0       0.88      0.80      0.84       396\n",
      "           1       0.58      0.72      0.64       152\n",
      "\n",
      "    accuracy                           0.78       548\n",
      "   macro avg       0.73      0.76      0.74       548\n",
      "weighted avg       0.80      0.78      0.78       548\n",
      "\n"
     ]
    }
   ],
   "source": [
    "# Check accuracy of the model on training data\n",
    "from sklearn.metrics import classification_report\n",
    "from sklearn.metrics import confusion_matrix\n",
    "from sklearn.metrics import accuracy_score\n",
    "print(accuracy_score(train_prediction_v1, train_y))\n",
    "print(confusion_matrix(train_prediction_v1, train_y))\n",
    "print(classification_report(train_prediction_v1, train_y))"
   ]
  },
  {
   "cell_type": "markdown",
   "metadata": {},
   "source": [
    "Save this model using either pickle or joblib with a name (*_feature_store_v1.pkl\")."
   ]
  },
  {
   "cell_type": "code",
   "execution_count": 15,
   "metadata": {},
   "outputs": [
    {
     "data": {
      "text/plain": [
       "['../saved_models/ml_pipeline_fs_v1.pkl']"
      ]
     },
     "execution_count": 15,
     "metadata": {},
     "output_type": "execute_result"
    }
   ],
   "source": [
    "# save ml pipeline with model using joblib\n",
    "import joblib\n",
    "joblib.dump(model_pipeline_v1, '../saved_models/ml_pipeline_fs_v1.pkl')\n"
   ]
  },
  {
   "cell_type": "markdown",
   "metadata": {},
   "source": [
    "Retrain the model with either a different set of features or all features."
   ]
  },
  {
   "cell_type": "code",
   "execution_count": 16,
   "metadata": {},
   "outputs": [
    {
     "name": "stdout",
     "output_type": "stream",
     "text": [
      "0.717391304347826\n"
     ]
    }
   ],
   "source": [
    "# load the saved model with joblib\n",
    "test_pipeline_v1 = joblib.load('../saved_models/ml_pipeline_fs_v1.pkl')\n",
    "test_prediction_v1 = test_pipeline_v1.predict(test_x)\n",
    "print(accuracy_score(test_prediction_v1, test_y))\n"
   ]
  },
  {
   "cell_type": "code",
   "execution_count": 17,
   "metadata": {},
   "outputs": [
    {
     "name": "stdout",
     "output_type": "stream",
     "text": [
      "0.7791970802919708\n"
     ]
    }
   ],
   "source": [
    "# retrain the model\n",
    "selected_features_v2 = [\"Glucose\",\"BloodPressure\",\"SkinThickness\",\"Insulin\",\"BMI\",\"DiabetesPedigreeFunction\",\"Pregnancies\",\"Age\"]\n",
    "\n",
    "# adding all pre-processing stesp in column transformers\n",
    "column_transformers_v2 = ColumnTransformer(transformers=[(\"drop_columns\",\"drop\",columns_to_drop),\n",
    "                                                   (\"scale_features\", StandardScaler(),selected_features_v2)\n",
    "])\n",
    "\n",
    "# create sklearn ML pipeline \n",
    "model_pipeline_v2 = Pipeline(steps=[\n",
    "                    ('pre_processing', column_transformers_v2),\n",
    "                    ('linear_model', ml_model)        \n",
    "                ])\n",
    "\n",
    "# train the model on training dataset\n",
    "model_pipeline_v2.fit(train_x, train_y)\n",
    "\n",
    "train_prediction_v2 = model_pipeline_v2.predict(train_x)\n",
    "print(accuracy_score(train_prediction_v2, train_y))\n"
   ]
  },
  {
   "cell_type": "markdown",
   "metadata": {},
   "source": [
    "Test the retrained model, check the accuracy, and save this model with a name (*_feature_store_v2.pkl\")."
   ]
  },
  {
   "cell_type": "code",
   "execution_count": 19,
   "metadata": {},
   "outputs": [
    {
     "data": {
      "text/plain": [
       "['../saved_models/ml_pipeline_fs_v2.pkl']"
      ]
     },
     "execution_count": 19,
     "metadata": {},
     "output_type": "execute_result"
    }
   ],
   "source": [
    "# save ml pipeline with model using joblib\n",
    "joblib.dump(model_pipeline_v2, '../saved_models/ml_pipeline_fs_v2.pkl')"
   ]
  },
  {
   "cell_type": "markdown",
   "metadata": {},
   "source": [
    "You can retrain the model as many times as you want and save it with increasing versions."
   ]
  },
  {
   "cell_type": "code",
   "execution_count": null,
   "metadata": {},
   "outputs": [],
   "source": []
  }
 ],
 "metadata": {
  "kernelspec": {
   "display_name": "Python 3",
   "language": "python",
   "name": "python3"
  },
  "language_info": {
   "codemirror_mode": {
    "name": "ipython",
    "version": 3
   },
   "file_extension": ".py",
   "mimetype": "text/x-python",
   "name": "python",
   "nbconvert_exporter": "python",
   "pygments_lexer": "ipython3",
   "version": "3.8.3"
  }
 },
 "nbformat": 4,
 "nbformat_minor": 5
}
