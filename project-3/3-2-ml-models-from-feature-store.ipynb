{
 "cells": [
  {
   "cell_type": "markdown",
   "id": "f7ed9f7e",
   "metadata": {},
   "source": [
    "Create a pandas DataFrame from a CSV file: “feature_data_milestone_1.csv” in the feature_store folder.\n"
   ]
  },
  {
   "cell_type": "markdown",
   "id": "e83cc478",
   "metadata": {},
   "source": [
    "Remove any records with outliers\n"
   ]
  },
  {
   "cell_type": "markdown",
   "id": "f839ef67",
   "metadata": {},
   "source": [
    "Split the dataset into training and testing sets with an 80:20 ratio."
   ]
  },
  {
   "cell_type": "markdown",
   "id": "b041224b",
   "metadata": {},
   "source": [
    "Define the ML pipeline with preprocessing steps and a logistic regression model. It will be a similar model to the “v1” model you built previously. Preprocessing can include the following:\n",
    "\n",
    "Select four relevant/significant features to build your ML model or drop irrelevant/nonsignificant features.\n",
    "Normalize these features using StandardScaler in sklearn. Hint: You can do steps 4 and 5 using ColumnTransformer, which can drop features and apply StandardScaler."
   ]
  },
  {
   "cell_type": "markdown",
   "id": "9149792f",
   "metadata": {},
   "source": [
    "Train the model on training data and test it on testing data."
   ]
  },
  {
   "cell_type": "markdown",
   "id": "43f20e27",
   "metadata": {},
   "source": [
    "You can analyze the accuracy of the model. Also, check the confusion matrix."
   ]
  },
  {
   "cell_type": "markdown",
   "id": "169c219d",
   "metadata": {},
   "source": [
    "Save this model using either pickle or joblib with a name (*_feature_store_v1.pkl\")."
   ]
  },
  {
   "cell_type": "markdown",
   "id": "66fc6ed0",
   "metadata": {},
   "source": [
    "Retrain the model with either a different set of features or all features."
   ]
  },
  {
   "cell_type": "markdown",
   "id": "daa6fb43",
   "metadata": {},
   "source": [
    "Test the retrained model, check the accuracy, and save this model with a name (*_feature_store_v2.pkl\")."
   ]
  },
  {
   "cell_type": "markdown",
   "id": "a9717455",
   "metadata": {},
   "source": [
    "You can retrain the model as many times as you want and save it with increasing versions."
   ]
  },
  {
   "cell_type": "code",
   "execution_count": null,
   "id": "d7943bc5",
   "metadata": {},
   "outputs": [],
   "source": []
  }
 ],
 "metadata": {
  "kernelspec": {
   "display_name": "Python 3",
   "language": "python",
   "name": "python3"
  },
  "language_info": {
   "codemirror_mode": {
    "name": "ipython",
    "version": 3
   },
   "file_extension": ".py",
   "mimetype": "text/x-python",
   "name": "python",
   "nbconvert_exporter": "python",
   "pygments_lexer": "ipython3",
   "version": "3.7.11"
  }
 },
 "nbformat": 4,
 "nbformat_minor": 5
}
