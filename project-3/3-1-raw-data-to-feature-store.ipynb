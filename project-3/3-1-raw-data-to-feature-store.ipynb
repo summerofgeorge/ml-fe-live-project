{
 "cells": [
  {
   "cell_type": "markdown",
   "id": "1b58d6a7",
   "metadata": {},
   "source": [
    "Most of these steps are similar to what we did in Project 1 of this series, “Creating Features.”\n",
    "\n",
    "You will be using data files from the model_data folder. Launch Jupyter Notebook and load all three data files in the model_data folder using the pandas library.\n"
   ]
  },
  {
   "cell_type": "markdown",
   "id": "b05ff96e",
   "metadata": {},
   "source": [
    "\n",
    "Aggregate pregnancy records to derive the number of pregnancies by patient.\n"
   ]
  },
  {
   "cell_type": "markdown",
   "id": "05cd68ba",
   "metadata": {},
   "source": [
    "\n",
    "Consolidate features from all three DataFrames into a single DataFrame. As diabetes.csv contains a target variable, you should merge diabetes.csv with other two files using left join.\n"
   ]
  },
  {
   "cell_type": "markdown",
   "id": "361fa67d",
   "metadata": {},
   "source": [
    "\n",
    "Derive age from birth year and add it in a DataFrame.\n"
   ]
  },
  {
   "cell_type": "markdown",
   "id": "19af015c",
   "metadata": {},
   "source": [
    "\n",
    "Impute any missing data for features. This will be the same as what you did in Milestone 2 of Project 1. This can be done at the scoring level as well. For pregnancies, it makes sense to treat missing values now rather than later.\n",
    "\n",
    "Create a folder named “feature_store” to store all cleaned features.\n",
    "\n",
    "Save the DataFrame as a CSV file, “feature_data_milestone_1.csv,” in the feature_store folder. For this liveProject, you will use a file-based feature store."
   ]
  },
  {
   "cell_type": "code",
   "execution_count": null,
   "id": "1539cfb1",
   "metadata": {},
   "outputs": [],
   "source": []
  }
 ],
 "metadata": {
  "kernelspec": {
   "display_name": "Python 3",
   "language": "python",
   "name": "python3"
  },
  "language_info": {
   "codemirror_mode": {
    "name": "ipython",
    "version": 3
   },
   "file_extension": ".py",
   "mimetype": "text/x-python",
   "name": "python",
   "nbconvert_exporter": "python",
   "pygments_lexer": "ipython3",
   "version": "3.7.11"
  }
 },
 "nbformat": 4,
 "nbformat_minor": 5
}
