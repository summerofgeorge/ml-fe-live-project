{
 "cells": [
  {
   "cell_type": "markdown",
   "metadata": {},
   "source": [
    "Most of these steps are similar to what we did in Project 1 of this series, “Creating Features.”\n",
    "\n",
    "You will be using data files from the model_data folder. Launch Jupyter Notebook and load all three data files in the model_data folder using the pandas library.\n"
   ]
  },
  {
   "cell_type": "code",
   "execution_count": 1,
   "metadata": {},
   "outputs": [],
   "source": [
    "import pandas as pd\n",
    "# load data files\n",
    "# load diabetes.csv\n",
    "diabetes_df = pd.read_csv(\"../model_data/diabetes.csv\")\n",
    "# load patient_data.csv\n",
    "patient_df = pd.read_csv(\"../model_data/patient_data.csv\")\n",
    "# load pregnancies_history.csv\n",
    "pregnancies_df = pd.read_csv(\"../model_data/pregnancies_records.csv\")"
   ]
  },
  {
   "cell_type": "markdown",
   "metadata": {},
   "source": [
    "\n",
    "Aggregate pregnancy records to derive the number of pregnancies by patient.\n"
   ]
  },
  {
   "cell_type": "code",
   "execution_count": 2,
   "metadata": {},
   "outputs": [
    {
     "name": "stdout",
     "output_type": "stream",
     "text": [
      "Index(['PatientID', 'Pregnancies'], dtype='object')\n"
     ]
    }
   ],
   "source": [
    "# aggregate pregnancies records\n",
    "pregnancies_summary_df=pregnancies_df.groupby('PatientID', as_index=False).agg({\"PregnancyRecordID\": \"count\"})\n",
    "pregnancies_summary_df.shape\n",
    "pregnancies_summary_df.columns=['PatientID','Pregnancies']\n",
    "print(pregnancies_summary_df.columns)"
   ]
  },
  {
   "cell_type": "code",
   "execution_count": 3,
   "metadata": {},
   "outputs": [
    {
     "data": {
      "text/plain": [
       "<bound method NDFrame.head of      PatientID  Pregnancies\n",
       "0         1017            2\n",
       "1         1031            8\n",
       "2         1033            4\n",
       "3         1048            4\n",
       "4         1074            1\n",
       "..         ...          ...\n",
       "670      17877            4\n",
       "671      17903            1\n",
       "672      17920            1\n",
       "673      17963            2\n",
       "674      17995            2\n",
       "\n",
       "[675 rows x 2 columns]>"
      ]
     },
     "execution_count": 3,
     "metadata": {},
     "output_type": "execute_result"
    }
   ],
   "source": [
    "pregnancies_summary_df.head"
   ]
  },
  {
   "cell_type": "markdown",
   "metadata": {},
   "source": [
    "\n",
    "Consolidate features from all three DataFrames into a single DataFrame. As diabetes.csv contains a target variable, you should merge diabetes.csv with other two files using left join.\n"
   ]
  },
  {
   "cell_type": "code",
   "execution_count": 4,
   "metadata": {},
   "outputs": [
    {
     "data": {
      "text/html": [
       "<div>\n",
       "<style scoped>\n",
       "    .dataframe tbody tr th:only-of-type {\n",
       "        vertical-align: middle;\n",
       "    }\n",
       "\n",
       "    .dataframe tbody tr th {\n",
       "        vertical-align: top;\n",
       "    }\n",
       "\n",
       "    .dataframe thead th {\n",
       "        text-align: right;\n",
       "    }\n",
       "</style>\n",
       "<table border=\"1\" class=\"dataframe\">\n",
       "  <thead>\n",
       "    <tr style=\"text-align: right;\">\n",
       "      <th></th>\n",
       "      <th>Glucose</th>\n",
       "      <th>BloodPressure</th>\n",
       "      <th>SkinThickness</th>\n",
       "      <th>Insulin</th>\n",
       "      <th>BMI</th>\n",
       "      <th>DiabetesPedigreeFunction</th>\n",
       "      <th>PatientID</th>\n",
       "      <th>Outcome</th>\n",
       "      <th>BirthYear</th>\n",
       "      <th>City</th>\n",
       "      <th>State</th>\n",
       "      <th>Country</th>\n",
       "      <th>Pregnancies</th>\n",
       "    </tr>\n",
       "  </thead>\n",
       "  <tbody>\n",
       "    <tr>\n",
       "      <th>0</th>\n",
       "      <td>101</td>\n",
       "      <td>58</td>\n",
       "      <td>17</td>\n",
       "      <td>265</td>\n",
       "      <td>24.2</td>\n",
       "      <td>0.614</td>\n",
       "      <td>1017</td>\n",
       "      <td>0</td>\n",
       "      <td>1998</td>\n",
       "      <td>Winona</td>\n",
       "      <td>Minnesota</td>\n",
       "      <td>United States</td>\n",
       "      <td>2.0</td>\n",
       "    </tr>\n",
       "    <tr>\n",
       "      <th>1</th>\n",
       "      <td>108</td>\n",
       "      <td>70</td>\n",
       "      <td>0</td>\n",
       "      <td>0</td>\n",
       "      <td>30.5</td>\n",
       "      <td>0.955</td>\n",
       "      <td>1031</td>\n",
       "      <td>1</td>\n",
       "      <td>1988</td>\n",
       "      <td>Springfield</td>\n",
       "      <td>Illinois</td>\n",
       "      <td>United States</td>\n",
       "      <td>8.0</td>\n",
       "    </tr>\n",
       "    <tr>\n",
       "      <th>2</th>\n",
       "      <td>148</td>\n",
       "      <td>60</td>\n",
       "      <td>27</td>\n",
       "      <td>318</td>\n",
       "      <td>30.9</td>\n",
       "      <td>0.150</td>\n",
       "      <td>1033</td>\n",
       "      <td>1</td>\n",
       "      <td>1992</td>\n",
       "      <td>Socorro</td>\n",
       "      <td>Texas</td>\n",
       "      <td>United States</td>\n",
       "      <td>4.0</td>\n",
       "    </tr>\n",
       "    <tr>\n",
       "      <th>3</th>\n",
       "      <td>113</td>\n",
       "      <td>76</td>\n",
       "      <td>0</td>\n",
       "      <td>0</td>\n",
       "      <td>33.3</td>\n",
       "      <td>0.278</td>\n",
       "      <td>1035</td>\n",
       "      <td>1</td>\n",
       "      <td>1998</td>\n",
       "      <td>Erie</td>\n",
       "      <td>Pennsylvania</td>\n",
       "      <td>United States</td>\n",
       "      <td>NaN</td>\n",
       "    </tr>\n",
       "    <tr>\n",
       "      <th>4</th>\n",
       "      <td>83</td>\n",
       "      <td>86</td>\n",
       "      <td>19</td>\n",
       "      <td>0</td>\n",
       "      <td>29.3</td>\n",
       "      <td>0.317</td>\n",
       "      <td>1048</td>\n",
       "      <td>0</td>\n",
       "      <td>1987</td>\n",
       "      <td>Sioux Falls</td>\n",
       "      <td>South Dakota</td>\n",
       "      <td>United States</td>\n",
       "      <td>4.0</td>\n",
       "    </tr>\n",
       "  </tbody>\n",
       "</table>\n",
       "</div>"
      ],
      "text/plain": [
       "   Glucose  BloodPressure  SkinThickness  Insulin   BMI  \\\n",
       "0      101             58             17      265  24.2   \n",
       "1      108             70              0        0  30.5   \n",
       "2      148             60             27      318  30.9   \n",
       "3      113             76              0        0  33.3   \n",
       "4       83             86             19        0  29.3   \n",
       "\n",
       "   DiabetesPedigreeFunction  PatientID  Outcome  BirthYear         City  \\\n",
       "0                     0.614       1017        0       1998       Winona   \n",
       "1                     0.955       1031        1       1988  Springfield   \n",
       "2                     0.150       1033        1       1992      Socorro   \n",
       "3                     0.278       1035        1       1998         Erie   \n",
       "4                     0.317       1048        0       1987  Sioux Falls   \n",
       "\n",
       "          State        Country  Pregnancies  \n",
       "0     Minnesota  United States          2.0  \n",
       "1      Illinois  United States          8.0  \n",
       "2         Texas  United States          4.0  \n",
       "3  Pennsylvania  United States          NaN  \n",
       "4  South Dakota  United States          4.0  "
      ]
     },
     "execution_count": 4,
     "metadata": {},
     "output_type": "execute_result"
    }
   ],
   "source": [
    "# Merging all three files on common key- PatientID using left join\n",
    "\n",
    "merged_df = pd.merge(pd.merge(diabetes_df,patient_df, on=\"PatientID\", how=\"left\"),pregnancies_summary_df, on=\"PatientID\", how=\"left\")\n",
    "merged_df.head()"
   ]
  },
  {
   "cell_type": "code",
   "execution_count": 5,
   "metadata": {},
   "outputs": [
    {
     "data": {
      "text/plain": [
       "(686, 13)"
      ]
     },
     "execution_count": 5,
     "metadata": {},
     "output_type": "execute_result"
    }
   ],
   "source": [
    "merged_df.shape"
   ]
  },
  {
   "cell_type": "markdown",
   "metadata": {},
   "source": [
    "\n",
    "Derive age from birth year and add it in a DataFrame.\n"
   ]
  },
  {
   "cell_type": "code",
   "execution_count": 6,
   "metadata": {},
   "outputs": [
    {
     "name": "stdout",
     "output_type": "stream",
     "text": [
      "2021\n"
     ]
    },
    {
     "data": {
      "text/html": [
       "<div>\n",
       "<style scoped>\n",
       "    .dataframe tbody tr th:only-of-type {\n",
       "        vertical-align: middle;\n",
       "    }\n",
       "\n",
       "    .dataframe tbody tr th {\n",
       "        vertical-align: top;\n",
       "    }\n",
       "\n",
       "    .dataframe thead th {\n",
       "        text-align: right;\n",
       "    }\n",
       "</style>\n",
       "<table border=\"1\" class=\"dataframe\">\n",
       "  <thead>\n",
       "    <tr style=\"text-align: right;\">\n",
       "      <th></th>\n",
       "      <th>Glucose</th>\n",
       "      <th>BloodPressure</th>\n",
       "      <th>SkinThickness</th>\n",
       "      <th>Insulin</th>\n",
       "      <th>BMI</th>\n",
       "      <th>DiabetesPedigreeFunction</th>\n",
       "      <th>PatientID</th>\n",
       "      <th>Outcome</th>\n",
       "      <th>BirthYear</th>\n",
       "      <th>City</th>\n",
       "      <th>State</th>\n",
       "      <th>Country</th>\n",
       "      <th>Pregnancies</th>\n",
       "      <th>Age</th>\n",
       "    </tr>\n",
       "  </thead>\n",
       "  <tbody>\n",
       "    <tr>\n",
       "      <th>0</th>\n",
       "      <td>101</td>\n",
       "      <td>58</td>\n",
       "      <td>17</td>\n",
       "      <td>265</td>\n",
       "      <td>24.2</td>\n",
       "      <td>0.614</td>\n",
       "      <td>1017</td>\n",
       "      <td>0</td>\n",
       "      <td>1998</td>\n",
       "      <td>Winona</td>\n",
       "      <td>Minnesota</td>\n",
       "      <td>United States</td>\n",
       "      <td>2.0</td>\n",
       "      <td>23</td>\n",
       "    </tr>\n",
       "    <tr>\n",
       "      <th>1</th>\n",
       "      <td>108</td>\n",
       "      <td>70</td>\n",
       "      <td>0</td>\n",
       "      <td>0</td>\n",
       "      <td>30.5</td>\n",
       "      <td>0.955</td>\n",
       "      <td>1031</td>\n",
       "      <td>1</td>\n",
       "      <td>1988</td>\n",
       "      <td>Springfield</td>\n",
       "      <td>Illinois</td>\n",
       "      <td>United States</td>\n",
       "      <td>8.0</td>\n",
       "      <td>33</td>\n",
       "    </tr>\n",
       "    <tr>\n",
       "      <th>2</th>\n",
       "      <td>148</td>\n",
       "      <td>60</td>\n",
       "      <td>27</td>\n",
       "      <td>318</td>\n",
       "      <td>30.9</td>\n",
       "      <td>0.150</td>\n",
       "      <td>1033</td>\n",
       "      <td>1</td>\n",
       "      <td>1992</td>\n",
       "      <td>Socorro</td>\n",
       "      <td>Texas</td>\n",
       "      <td>United States</td>\n",
       "      <td>4.0</td>\n",
       "      <td>29</td>\n",
       "    </tr>\n",
       "    <tr>\n",
       "      <th>3</th>\n",
       "      <td>113</td>\n",
       "      <td>76</td>\n",
       "      <td>0</td>\n",
       "      <td>0</td>\n",
       "      <td>33.3</td>\n",
       "      <td>0.278</td>\n",
       "      <td>1035</td>\n",
       "      <td>1</td>\n",
       "      <td>1998</td>\n",
       "      <td>Erie</td>\n",
       "      <td>Pennsylvania</td>\n",
       "      <td>United States</td>\n",
       "      <td>NaN</td>\n",
       "      <td>23</td>\n",
       "    </tr>\n",
       "    <tr>\n",
       "      <th>4</th>\n",
       "      <td>83</td>\n",
       "      <td>86</td>\n",
       "      <td>19</td>\n",
       "      <td>0</td>\n",
       "      <td>29.3</td>\n",
       "      <td>0.317</td>\n",
       "      <td>1048</td>\n",
       "      <td>0</td>\n",
       "      <td>1987</td>\n",
       "      <td>Sioux Falls</td>\n",
       "      <td>South Dakota</td>\n",
       "      <td>United States</td>\n",
       "      <td>4.0</td>\n",
       "      <td>34</td>\n",
       "    </tr>\n",
       "  </tbody>\n",
       "</table>\n",
       "</div>"
      ],
      "text/plain": [
       "   Glucose  BloodPressure  SkinThickness  Insulin   BMI  \\\n",
       "0      101             58             17      265  24.2   \n",
       "1      108             70              0        0  30.5   \n",
       "2      148             60             27      318  30.9   \n",
       "3      113             76              0        0  33.3   \n",
       "4       83             86             19        0  29.3   \n",
       "\n",
       "   DiabetesPedigreeFunction  PatientID  Outcome  BirthYear         City  \\\n",
       "0                     0.614       1017        0       1998       Winona   \n",
       "1                     0.955       1031        1       1988  Springfield   \n",
       "2                     0.150       1033        1       1992      Socorro   \n",
       "3                     0.278       1035        1       1998         Erie   \n",
       "4                     0.317       1048        0       1987  Sioux Falls   \n",
       "\n",
       "          State        Country  Pregnancies  Age  \n",
       "0     Minnesota  United States          2.0   23  \n",
       "1      Illinois  United States          8.0   33  \n",
       "2         Texas  United States          4.0   29  \n",
       "3  Pennsylvania  United States          NaN   23  \n",
       "4  South Dakota  United States          4.0   34  "
      ]
     },
     "execution_count": 6,
     "metadata": {},
     "output_type": "execute_result"
    }
   ],
   "source": [
    "# BirthYear is not a useful feature. \n",
    "# However, we can derive age feature from Birthyear and there may be correlation between age and diabetes.\n",
    "from datetime import date \n",
    "yy = date.today().year\n",
    "print(yy)\n",
    "age = yy-merged_df[\"BirthYear\"]\n",
    "merged_df[\"Age\"]=age\n",
    "merged_df.head()"
   ]
  },
  {
   "cell_type": "markdown",
   "metadata": {},
   "source": [
    "\n",
    "Impute any missing data for features. This will be the same as what you did in Milestone 2 of Project 1. This can be done at the scoring level as well. For pregnancies, it makes sense to treat missing values now rather than later.\n",
    "\n",
    "Create a folder named “feature_store” to store all cleaned features.\n",
    "\n",
    "Save the DataFrame as a CSV file, “feature_data_milestone_1.csv,” in the feature_store folder. For this liveProject, you will use a file-based feature store."
   ]
  },
  {
   "cell_type": "code",
   "execution_count": 7,
   "metadata": {},
   "outputs": [
    {
     "data": {
      "text/plain": [
       "Glucose                     0\n",
       "BloodPressure               0\n",
       "SkinThickness               0\n",
       "Insulin                     0\n",
       "BMI                         0\n",
       "DiabetesPedigreeFunction    0\n",
       "PatientID                   0\n",
       "Outcome                     0\n",
       "BirthYear                   0\n",
       "City                        0\n",
       "State                       0\n",
       "Country                     0\n",
       "Pregnancies                 0\n",
       "Age                         0\n",
       "dtype: int64"
      ]
     },
     "execution_count": 7,
     "metadata": {},
     "output_type": "execute_result"
    }
   ],
   "source": [
    "# As per dataset specification--> If patient is not in pregnancies_records.csv, it is safe to assume the patient didn't have any pregnancy\n",
    "# impute 0 for missing values for Pregnancies\n",
    "# Alternatively, you can impute missing values as per the distribution of Pregnancies values\n",
    "merged_df[\"Pregnancies\"].fillna(0, inplace=True)\n",
    "merged_df.isnull().sum()"
   ]
  },
  {
   "cell_type": "code",
   "execution_count": 8,
   "metadata": {},
   "outputs": [
    {
     "data": {
      "text/plain": [
       "(686, 10)"
      ]
     },
     "execution_count": 8,
     "metadata": {},
     "output_type": "execute_result"
    }
   ],
   "source": [
    "useful_features = [\"PatientID\",\"Glucose\",\"BloodPressure\",\"SkinThickness\",\"Insulin\",\"BMI\",\"DiabetesPedigreeFunction\",\"Pregnancies\",\"Age\",\"Outcome\"]\n",
    "result_df = merged_df[useful_features]\n",
    "result_df.shape"
   ]
  },
  {
   "cell_type": "code",
   "execution_count": 9,
   "metadata": {},
   "outputs": [],
   "source": [
    "# Save useful features in a centralized place\n",
    "# Ideally, it should be stored in a distributed data store. For this live project, we will save features in CSV files. \n",
    "result_df.to_csv(\"../feature_store/feature_data_milestone_1.csv\", index = False, header=True)"
   ]
  }
 ],
 "metadata": {
  "kernelspec": {
   "display_name": "Python 3",
   "language": "python",
   "name": "python3"
  },
  "language_info": {
   "codemirror_mode": {
    "name": "ipython",
    "version": 3
   },
   "file_extension": ".py",
   "mimetype": "text/x-python",
   "name": "python",
   "nbconvert_exporter": "python",
   "pygments_lexer": "ipython3",
   "version": "3.8.3"
  }
 },
 "nbformat": 4,
 "nbformat_minor": 5
}
