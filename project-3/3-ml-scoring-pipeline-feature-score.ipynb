{
 "cells": [
  {
   "cell_type": "markdown",
   "id": "018df2e5",
   "metadata": {},
   "source": [
    "Populate features using new data\n",
    "\n",
    "For this milestone, you will be using new data from the folder scoring_data. Check your data files and make sure that scoring_data files are accessible. Note that these files don’t have target variable outcome as your scoring pipeline will predict it.\n",
    "\n",
    "Open a new Jupyter Notebook, and load data files from the scording_data folder.\n",
    "\n",
    "Derive the number of pregnancies by patient from the patient_records.csv file.\n"
   ]
  },
  {
   "cell_type": "markdown",
   "id": "9334bcfb",
   "metadata": {},
   "source": [
    "Create a final DataFrame containing all features using a left join."
   ]
  },
  {
   "cell_type": "markdown",
   "id": "4a98f193",
   "metadata": {},
   "source": [
    "You will need to create new features that you may have added (for example, age).\n",
    "Treat missing values for pregnancies. You may not need to do any further feature processing or engineering.\n",
    "You need to ensure that you are supplying all features that you have used in model training.\n",
    "Save the DataFrame as a CSV file: “feature_data_milestone_3.csv” in the feature_store folder."
   ]
  },
  {
   "cell_type": "markdown",
   "id": "9a7648b7",
   "metadata": {},
   "source": [
    "Saving this in a feature store may seem like overhead. Imagine you are loading a centralized database storing features data. You compute once and reuse many times.\n",
    "\n",
    "Build a scoring pipeline to generate predictions"
   ]
  },
  {
   "cell_type": "markdown",
   "id": "67120579",
   "metadata": {},
   "source": [
    "Create a pandas DataFrame from a CSV file: “feature_data_milestone_3.csv” in the feature_store folder."
   ]
  },
  {
   "cell_type": "markdown",
   "id": "bc59dfa5",
   "metadata": {},
   "source": [
    "Load the ML model from the pickle file. You can pick any version or the one with the best accuracy."
   ]
  },
  {
   "cell_type": "markdown",
   "id": "cc717ada",
   "metadata": {},
   "source": [
    "Generate a prediction on new data using the predict method."
   ]
  },
  {
   "cell_type": "markdown",
   "id": "964fd14f",
   "metadata": {},
   "source": [
    "Add the prediction in your DataFrame with column-prediction."
   ]
  },
  {
   "cell_type": "markdown",
   "id": "5b487448",
   "metadata": {},
   "source": [
    "Save the results as a CSV file. The CSV file should include all features and a prediction column."
   ]
  }
 ],
 "metadata": {
  "kernelspec": {
   "display_name": "Python 3",
   "language": "python",
   "name": "python3"
  },
  "language_info": {
   "codemirror_mode": {
    "name": "ipython",
    "version": 3
   },
   "file_extension": ".py",
   "mimetype": "text/x-python",
   "name": "python",
   "nbconvert_exporter": "python",
   "pygments_lexer": "ipython3",
   "version": "3.7.11"
  }
 },
 "nbformat": 4,
 "nbformat_minor": 5
}
